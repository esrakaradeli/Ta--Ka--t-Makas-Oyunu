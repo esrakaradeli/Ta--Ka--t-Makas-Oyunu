{
  "nbformat": 4,
  "nbformat_minor": 0,
  "metadata": {
    "colab": {
      "name": "Taş-Kağıt-Makas Oyunu",
      "provenance": [],
      "collapsed_sections": []
    },
    "kernelspec": {
      "name": "python3",
      "display_name": "Python 3"
    },
    "language_info": {
      "name": "python"
    }
  },
  "cells": [
    {
      "cell_type": "code",
      "execution_count": null,
      "metadata": {
        "id": "z2RmboVsBnPf"
      },
      "outputs": [],
      "source": [
        "import random \n",
        "secenekler=[\"Taş\",\"Kağıt\",\"Makas\"]\n",
        "kullanıcı_pc= random.choice(secenekler)\n",
        "kullanıcı_hmn=input(\"Aşağıdaki verilerden birini giriniz.(Sistem büyük-küçük harflere ve duyarlıdır.)\\n Taş-Kağıt-Makas\")\n",
        "tur=0\n",
        "human=0\n",
        "pc=0\n",
        "while True:\n",
        "\n",
        "  if kullanıcı_pc== \"Taş\" and kullanıcı_hmn== \"Kağıt\":\n",
        "    print(\"Turu siz kazandınız!\")\n",
        "    tur=tur+1\n",
        "    human=human+1\n",
        "  elif kullanıcı_pc== \"Taş\" and kullanıcı_hmn== \"Makas\":\n",
        "    print(\"Turu bilgisayar kazandı!\")\n",
        "    tur=tur+1\n",
        "    pc=pc+1\n",
        "  elif kullanıcı_pc== \"Kağıt\" and kullanıcı_hmn== \"Taş\":\n",
        "    print(\"Turu bilgisayar kazandı!\")\n",
        "    tur=tur+1\n",
        "    pc=pc+1\n",
        "  elif kullanıcı_pc== \"Kağıt\" and kullanıcı_hmn== \"Makas\":\n",
        "    print(\"Turu siz kazandınız\")\n",
        "    tur=tur+1\n",
        "    human=human+1\n",
        "  elif kullanıcı_pc== \"Makas\" and kullanıcı_hmn== \"Taş\":\n",
        "    print(\"Turu siz kazandınız!\")\n",
        "    tur=tur+1\n",
        "    human=human+1\n",
        "  elif kullanıcı_pc== \"Makas\" and kullanıcı_hmn== \"Kağıt\":\n",
        "    print(\"Turu bilgisayar kazandı!\")\n",
        "    tur=tur+1\n",
        "    pc=pc+1\n",
        "  elif kullanıcı_pc== kullanıcı_hmn:\n",
        "    print(\"Berabere kaldınız!\")\n",
        "    tur=tur+0 \n",
        "  else:\n",
        "   print(\"Yanlış veri girdiniz\")\n",
        "  \n",
        "  if pc==2 or pc==3:\n",
        "    print(\"Oyunu Kaybettiniz!\")\n",
        "  elif human==2 or human==3:\n",
        "    print(\"Oyunu Kazandınız!\")  \n",
        "    \n",
        "  if tur>=3:\n",
        "    print(\"Oyun sonlandı!\")\n",
        "    break\n",
        "  \n",
        "  kullanıcı_pc=random.choice(secenekler)\n",
        "  kullanıcı_hmn= input(\"Yeni bir veri giriniz\")"
      ]
    },
    {
      "cell_type": "code",
      "source": [
        ""
      ],
      "metadata": {
        "id": "1OVFljodBx-U"
      },
      "execution_count": null,
      "outputs": []
    }
  ]
}